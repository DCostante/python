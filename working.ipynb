{
 "cells": [
  {
   "cell_type": "code",
   "execution_count": 1,
   "metadata": {},
   "outputs": [],
   "source": [
    "making a dictionary of the data\n",
    "key is 5-year bin\n",
    "    loop to go through & bin - add column to say what 5-yer it is\n",
    "    if bin x, year range y\n",
    "    then use than column for the key\n",
    "year range = 1900-2010\n",
    "\n",
    "dictionary\n",
    "years (or year bins) are key\n",
    "list of spp within\n",
    "for key in d\n",
    "random sample d(key)\n",
    "where random sample is N of smallest bin\n",
    "then do that ~100 x\n",
    "\n",
    "    \n",
    " "
   ]
  },
  {
   "cell_type": "code",
   "execution_count": 3,
   "metadata": {
    "scrolled": true
   },
   "outputs": [],
   "source": [
    "import pandas as pd\n",
    "import numpy as np\n",
    "\n",
    "file=pd.read_csv('THE New York_Final.txt',sep='\\t', delimiter=None, header='infer', engine='python')\n",
    "file.head()\n",
    "\n",
    "dictionary = {}\n",
    " \n",
    "#for column in file:\n",
    "#    print(file[column].iloc[1])\n",
    "        \n",
    "#for line in range[len(file)]:\n",
    "#        print(file[column].iloc[1])\n",
    "    \n",
    "#for line in range[len(file)]:\n",
    "#    for value in file['Decade']:\n",
    "#        if Decade not in dictionary:\n",
    "#            dictionary['Decade'] = [value]\n",
    "#        else:\n",
    "#            dictionary['Decade'].append(value)\n",
    " \n",
    "#print(dictionary)\n",
    "\n",
    "\n",
    "#    if Decade not in dictionary:\n",
    "#        dictionary[Decade]=[ResolvedName]  \n",
    "#    if ResolvedName not in dictionary:\n",
    "#        dictionary[Decade].append(ResolvedName)\n",
    "\n",
    "        \n",
    "#for name in file:\n",
    "#    for value in file[name]:\n",
    "#        if name not in dictionary: \n",
    "#            dictionary[name] = [value]\n",
    "#        else:\n",
    "#            dictionary[name].append(value)        \n",
    "        \n",
    "#print(dictionary)\n",
    "#for column in w\n",
    "#    print(W[col].iloc[1])\n",
    "    \n",
    "#for i in range[len(W)]:\n",
    "#    print(W['ID'].iloc[1])\n",
    "    \n",
    "    \n",
    "#iloc is index location\n",
    "#see corona code \n",
    "#print(dictionary)"
   ]
  },
  {
   "cell_type": "code",
   "execution_count": null,
   "metadata": {},
   "outputs": [],
   "source": []
  },
  {
   "cell_type": "code",
   "execution_count": null,
   "metadata": {},
   "outputs": [],
   "source": []
  }
 ],
 "metadata": {
  "kernelspec": {
   "display_name": "Python 3",
   "language": "python",
   "name": "python3"
  },
  "language_info": {
   "codemirror_mode": {
    "name": "ipython",
    "version": 3
   },
   "file_extension": ".py",
   "mimetype": "text/x-python",
   "name": "python",
   "nbconvert_exporter": "python",
   "pygments_lexer": "ipython3",
   "version": "3.7.4"
  }
 },
 "nbformat": 4,
 "nbformat_minor": 2
}
